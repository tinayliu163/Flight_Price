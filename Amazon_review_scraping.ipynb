{
 "cells": [
  {
   "cell_type": "code",
   "execution_count": 6,
   "metadata": {
    "collapsed": true
   },
   "outputs": [],
   "source": [
    "import requests\n",
    "import urllib\n",
    "from bs4 import BeautifulSoup\n",
    "import time\n",
    "import numpy as np\n",
    "import re\n",
    "import pandas as pd\n",
    "import json"
   ]
  },
  {
   "cell_type": "markdown",
   "metadata": {},
   "source": [
    "#### Import ASIN data\n",
    "- ASIN stands for Amazon Standard Identification Number\n",
    "- It is like an unique ID of each item sold in Amazon\n",
    "- ASIN data for rugs, the product is rug"
   ]
  },
  {
   "cell_type": "code",
   "execution_count": 7,
   "metadata": {},
   "outputs": [
    {
     "data": {
      "text/html": [
       "<div>\n",
       "<style>\n",
       "    .dataframe thead tr:only-child th {\n",
       "        text-align: right;\n",
       "    }\n",
       "\n",
       "    .dataframe thead th {\n",
       "        text-align: left;\n",
       "    }\n",
       "\n",
       "    .dataframe tbody tr th {\n",
       "        vertical-align: top;\n",
       "    }\n",
       "</style>\n",
       "<table border=\"1\" class=\"dataframe\">\n",
       "  <thead>\n",
       "    <tr style=\"text-align: right;\">\n",
       "      <th></th>\n",
       "      <th>(Parent) ASIN</th>\n",
       "      <th>(Child) ASIN</th>\n",
       "      <th>Units Ordered</th>\n",
       "      <th>Well Woven SKU</th>\n",
       "    </tr>\n",
       "  </thead>\n",
       "  <tbody>\n",
       "    <tr>\n",
       "      <th>0</th>\n",
       "      <td>B01D5JGOO8</td>\n",
       "      <td>B01D5KC4SC</td>\n",
       "      <td>526</td>\n",
       "      <td>VI41-5</td>\n",
       "    </tr>\n",
       "    <tr>\n",
       "      <th>1</th>\n",
       "      <td>B01B3VML60</td>\n",
       "      <td>B01B3VAMVG</td>\n",
       "      <td>410</td>\n",
       "      <td>600165</td>\n",
       "    </tr>\n",
       "    <tr>\n",
       "      <th>2</th>\n",
       "      <td>B071X12KKP</td>\n",
       "      <td>B072QSPMLG</td>\n",
       "      <td>358</td>\n",
       "      <td>AR-2031</td>\n",
       "    </tr>\n",
       "    <tr>\n",
       "      <th>3</th>\n",
       "      <td>B015AQARDI</td>\n",
       "      <td>B015AMT378</td>\n",
       "      <td>319</td>\n",
       "      <td>9535</td>\n",
       "    </tr>\n",
       "    <tr>\n",
       "      <th>4</th>\n",
       "      <td>B01H7X6HEA</td>\n",
       "      <td>B01H7X6OS4</td>\n",
       "      <td>276</td>\n",
       "      <td>6630-2031</td>\n",
       "    </tr>\n",
       "    <tr>\n",
       "      <th>6</th>\n",
       "      <td>B01H7X6GJ6</td>\n",
       "      <td>B01H7X7CW6</td>\n",
       "      <td>259</td>\n",
       "      <td>6518-2L</td>\n",
       "    </tr>\n",
       "    <tr>\n",
       "      <th>7</th>\n",
       "      <td>B071GGRX7Z</td>\n",
       "      <td>B072MW656V</td>\n",
       "      <td>247</td>\n",
       "      <td>VE-80-5</td>\n",
       "    </tr>\n",
       "    <tr>\n",
       "      <th>10</th>\n",
       "      <td>B00SOULB38</td>\n",
       "      <td>B01BJH8H52</td>\n",
       "      <td>221</td>\n",
       "      <td>547805</td>\n",
       "    </tr>\n",
       "    <tr>\n",
       "      <th>12</th>\n",
       "      <td>B079YYB1B3</td>\n",
       "      <td>B01M0OP5XF</td>\n",
       "      <td>204</td>\n",
       "      <td>MC-62-5</td>\n",
       "    </tr>\n",
       "    <tr>\n",
       "      <th>13</th>\n",
       "      <td>B016FNZ4D8</td>\n",
       "      <td>B0181DGGKA</td>\n",
       "      <td>177</td>\n",
       "      <td>36002</td>\n",
       "    </tr>\n",
       "    <tr>\n",
       "      <th>15</th>\n",
       "      <td>B015AQAOFO</td>\n",
       "      <td>B015AMT206</td>\n",
       "      <td>164</td>\n",
       "      <td>9305</td>\n",
       "    </tr>\n",
       "    <tr>\n",
       "      <th>17</th>\n",
       "      <td>B01C9K3FZA</td>\n",
       "      <td>B01C9F2NIU</td>\n",
       "      <td>162</td>\n",
       "      <td>21073</td>\n",
       "    </tr>\n",
       "    <tr>\n",
       "      <th>21</th>\n",
       "      <td>B01H7X6G78</td>\n",
       "      <td>B01H7X6GPK</td>\n",
       "      <td>138</td>\n",
       "      <td>6528-2S</td>\n",
       "    </tr>\n",
       "    <tr>\n",
       "      <th>22</th>\n",
       "      <td>B01H7X6D5I</td>\n",
       "      <td>B01N1TLY3E</td>\n",
       "      <td>137</td>\n",
       "      <td>6680-SLICE</td>\n",
       "    </tr>\n",
       "    <tr>\n",
       "      <th>23</th>\n",
       "      <td>B01M1XYYW3</td>\n",
       "      <td>B01M0OP5XF</td>\n",
       "      <td>134</td>\n",
       "      <td>MC-62-5</td>\n",
       "    </tr>\n",
       "    <tr>\n",
       "      <th>36</th>\n",
       "      <td>B01I1V89XO</td>\n",
       "      <td>B01I0IYZRC</td>\n",
       "      <td>110</td>\n",
       "      <td>LX-56-5</td>\n",
       "    </tr>\n",
       "    <tr>\n",
       "      <th>38</th>\n",
       "      <td>B01I1V8AVA</td>\n",
       "      <td>B01I0IYV9O</td>\n",
       "      <td>108</td>\n",
       "      <td>LX-64-5</td>\n",
       "    </tr>\n",
       "    <tr>\n",
       "      <th>39</th>\n",
       "      <td>B015AQAPD0</td>\n",
       "      <td>B015AMT4GS</td>\n",
       "      <td>108</td>\n",
       "      <td>9665</td>\n",
       "    </tr>\n",
       "    <tr>\n",
       "      <th>41</th>\n",
       "      <td>B073T58Y7R</td>\n",
       "      <td>B073T4Q97C</td>\n",
       "      <td>101</td>\n",
       "      <td>70035</td>\n",
       "    </tr>\n",
       "    <tr>\n",
       "      <th>45</th>\n",
       "      <td>B013KX3EQ0</td>\n",
       "      <td>B013KX2NDK</td>\n",
       "      <td>98</td>\n",
       "      <td>0946-2031</td>\n",
       "    </tr>\n",
       "  </tbody>\n",
       "</table>\n",
       "</div>"
      ],
      "text/plain": [
       "   (Parent) ASIN (Child) ASIN  Units Ordered Well Woven SKU\n",
       "0     B01D5JGOO8   B01D5KC4SC            526         VI41-5\n",
       "1     B01B3VML60   B01B3VAMVG            410         600165\n",
       "2     B071X12KKP   B072QSPMLG            358        AR-2031\n",
       "3     B015AQARDI   B015AMT378            319           9535\n",
       "4     B01H7X6HEA   B01H7X6OS4            276      6630-2031\n",
       "6     B01H7X6GJ6   B01H7X7CW6            259        6518-2L\n",
       "7     B071GGRX7Z   B072MW656V            247        VE-80-5\n",
       "10    B00SOULB38   B01BJH8H52            221         547805\n",
       "12    B079YYB1B3   B01M0OP5XF            204        MC-62-5\n",
       "13    B016FNZ4D8   B0181DGGKA            177          36002\n",
       "15    B015AQAOFO   B015AMT206            164           9305\n",
       "17    B01C9K3FZA   B01C9F2NIU            162          21073\n",
       "21    B01H7X6G78   B01H7X6GPK            138        6528-2S\n",
       "22    B01H7X6D5I   B01N1TLY3E            137     6680-SLICE\n",
       "23    B01M1XYYW3   B01M0OP5XF            134        MC-62-5\n",
       "36    B01I1V89XO   B01I0IYZRC            110        LX-56-5\n",
       "38    B01I1V8AVA   B01I0IYV9O            108        LX-64-5\n",
       "39    B015AQAPD0   B015AMT4GS            108           9665\n",
       "41    B073T58Y7R   B073T4Q97C            101          70035\n",
       "45    B013KX3EQ0   B013KX2NDK             98      0946-2031"
      ]
     },
     "execution_count": 7,
     "metadata": {},
     "output_type": "execute_result"
    }
   ],
   "source": [
    "import pandas as pd\n",
    "items = pd.read_csv('amazon category A.csv')\n",
    "items = items.drop_duplicates(\"(Parent) ASIN\")\n",
    "items"
   ]
  },
  {
   "cell_type": "markdown",
   "metadata": {},
   "source": [
    "#### Get a list of ASIN"
   ]
  },
  {
   "cell_type": "code",
   "execution_count": 8,
   "metadata": {
    "collapsed": true
   },
   "outputs": [],
   "source": [
    "ASIN = items['(Child) ASIN'].tolist()\n",
    "ASIN.remove(\"B01M0OP5XF\")"
   ]
  },
  {
   "cell_type": "markdown",
   "metadata": {},
   "source": [
    "#### Scrape review data for products\n",
    "*** Features ***\n",
    "- Review data\n",
    "- Review text\n",
    "- Review author\n",
    "- Size\n",
    "- Color\n",
    "\n",
    "*** Return ***\n",
    "- DataFrame: \"Review\",\"Star\", and \"Feature\" column\n",
    "- \"Review\": customer reviews\n",
    "- \"Star\": star of attitute\n",
    "- \"Feature\": features of product"
   ]
  },
  {
   "cell_type": "markdown",
   "metadata": {},
   "source": [
    "#### Get review page URL"
   ]
  },
  {
   "cell_type": "code",
   "execution_count": 9,
   "metadata": {
    "collapsed": true
   },
   "outputs": [],
   "source": [
    "review_url = []\n",
    "headers = {'User-Agent':'Mozilla/5.0 (X11; Linux x86_64) AppleWebKit/537.36 (KHTML, like Gecko) Chrome/44.0.2403.157 Safari/537.36'}\n",
    "def get_review_url(product_ID):\n",
    "    base_url = \"http://www.amazon.com/dp/\"\n",
    "    \n",
    "    for num in product_ID:\n",
    "        url = base_url + num\n",
    "        response = requests.get(url,headers = headers)\n",
    "        page = BeautifulSoup(response.content, \"html.parser\")\n",
    "        link = page.find_all(\"a\",{\"class\" : \"a-link-emphasis a-text-bold\"}, href = True)[0]['href']\n",
    "        review_url.append(link)"
   ]
  },
  {
   "cell_type": "code",
   "execution_count": 10,
   "metadata": {
    "collapsed": true
   },
   "outputs": [],
   "source": [
    "get_review_url(ASIN)"
   ]
  },
  {
   "cell_type": "code",
   "execution_count": 11,
   "metadata": {},
   "outputs": [
    {
     "name": "stdout",
     "output_type": "stream",
     "text": [
      "19\n"
     ]
    },
    {
     "data": {
      "text/plain": [
       "'/Well-Woven-Abstract-Geometric-Neutral/product-reviews/B01I0IYV9O/ref=cm_cr_dp_d_show_all_btm?ie=UTF8&reviewerType=all_reviews'"
      ]
     },
     "execution_count": 11,
     "metadata": {},
     "output_type": "execute_result"
    }
   ],
   "source": [
    "print(len(review_url))\n",
    "review_url[15] ## test"
   ]
  },
  {
   "cell_type": "markdown",
   "metadata": {},
   "source": [
    "#### Access to review pages"
   ]
  },
  {
   "cell_type": "code",
   "execution_count": 12,
   "metadata": {
    "collapsed": true
   },
   "outputs": [],
   "source": [
    "#if star_div.text != \"4.0 out of 5 stars\" and '5.0 out of 5 stars':"
   ]
  },
  {
   "cell_type": "code",
   "execution_count": 13,
   "metadata": {
    "collapsed": true
   },
   "outputs": [],
   "source": [
    "## build function\n",
    "def clawer_detail_page(review_data):\n",
    "    review_body = []\n",
    "    star_body = []\n",
    "    review_title_body = []\n",
    "    review_author_body = []\n",
    "    review_date_body = []\n",
    "    size_color_body = []\n",
    "    \n",
    "    for data in review_data:\n",
    "          #star\n",
    "        star_div = data.find_all('span', {'class' : \"a-icon-alt\" })[0]\n",
    "        #print(star_div.text.strip())\n",
    "        star_body.append(star_div.text.strip())\n",
    "        \n",
    "       \n",
    "            \n",
    "        #review title\n",
    "        title_div = data.find_all('a', {'class' : \"a-size-base a-link-normal review-title a-color-base a-text-bold\"})[0]\n",
    "        #print(title_div.text.strip()) \n",
    "        review_title_body.append(title_div.text.strip())\n",
    "\n",
    "        #review date\n",
    "        date_div = data.find_all('span', {'class' : \"a-size-base a-color-secondary review-date\"})[0]\n",
    "        #print(date_div.text.strip()) \n",
    "        review_date_body.append(date_div.text.strip())\n",
    "\n",
    "        #review author\n",
    "        author_div = data.find_all('a', {'class' : \"a-size-base a-link-normal author\" })[0]\n",
    "        #print(author_div.text.strip())\n",
    "        review_author_body.append(author_div.text.strip())\n",
    "\n",
    "        #size_color\n",
    "\n",
    "        size_div = data.find_all('a', {\"class\":\"a-size-mini a-link-normal a-color-secondary\"})\n",
    "        if size_div != []:\n",
    "            size_color_body.append(size_div[0].text.strip())\n",
    "        else:\n",
    "            size_color_body.append(\"None\")\n",
    "\n",
    "        # positive_review\n",
    "        body_div = data.find_all('span', {'class' : \"a-size-base review-text\" })[0]\n",
    "        #print(body_div.text.strip())\n",
    "        review_body.append(body_div.text.strip())\n",
    "        \n",
    "        \n",
    "    return {\"Star\":  star_body, \"Author\":review_author_body,\"Title\":review_title_body,\n",
    "           \"Date\":review_date_body,\"Size_Color\":size_color_body,\"Review\":review_body}"
   ]
  },
  {
   "cell_type": "markdown",
   "metadata": {},
   "source": [
    "#### get review list for each product"
   ]
  },
  {
   "cell_type": "code",
   "execution_count": 14,
   "metadata": {
    "collapsed": true
   },
   "outputs": [],
   "source": [
    "def get_review_list(url, pageNum):\n",
    "    current_url = \"https://www.amazon.com\"+url+\"&pageNumber=\"+str(pageNum)\n",
    "    response = requests.get(current_url,headers = headers)\n",
    "    page = BeautifulSoup(response.content, \"html.parser\")\n",
    "    data = page.find_all(\"div\",{\"class\" : \"a-section review\"})\n",
    "    return data"
   ]
  },
  {
   "cell_type": "markdown",
   "metadata": {},
   "source": [
    "#### get all reviews for all products"
   ]
  },
  {
   "cell_type": "code",
   "execution_count": 15,
   "metadata": {},
   "outputs": [
    {
     "name": "stdout",
     "output_type": "stream",
     "text": [
      "/Geometric-Abstract-Resistant-Contemporary-Painting/product-reviews/B01D5KC4SC/ref=cm_cr_dp_d_show_all_btm?ie=UTF8&reviewerType=all_reviews\n",
      "1\n",
      "2\n",
      "3\n",
      "4\n",
      "5\n",
      "6\n",
      "7\n",
      "8\n",
      "9\n",
      "10\n",
      "11\n",
      "12\n",
      "13\n",
      "14\n",
      "15\n",
      "16\n",
      "17\n",
      "18\n",
      "19\n",
      "20\n",
      "21\n",
      "22\n",
      "23\n",
      "24\n",
      "25\n",
      "26\n",
      "27\n",
      "28\n",
      "29\n",
      "30\n",
      "31\n",
      "32\n",
      "33\n",
      "34\n",
      "35\n",
      "36\n",
      "37\n",
      "38\n",
      "39\n",
      "40\n",
      "/Circles-Geometric-Resistant-Abstract-Contemporary/product-reviews/B01B3VAMVG/ref=cm_cr_dp_d_show_all_btm?ie=UTF8&reviewerType=all_reviews\n",
      "1\n",
      "2\n",
      "3\n",
      "4\n",
      "5\n",
      "6\n",
      "7\n",
      "8\n",
      "9\n",
      "10\n",
      "11\n",
      "12\n",
      "13\n",
      "14\n",
      "15\n",
      "16\n",
      "17\n",
      "18\n",
      "19\n",
      "20\n",
      "21\n",
      "22\n",
      "23\n",
      "24\n",
      "25\n",
      "26\n",
      "27\n",
      "28\n",
      "29\n",
      "30\n",
      "31\n",
      "32\n",
      "33\n",
      "34\n",
      "35\n",
      "36\n",
      "37\n",
      "38\n",
      "39\n",
      "40\n",
      "41\n",
      "42\n",
      "43\n",
      "/Well-Woven-Artificial-Resistant-Synthetic/product-reviews/B072QSPMLG/ref=cm_cr_dp_d_show_all_btm?ie=UTF8&reviewerType=all_reviews\n",
      "1\n",
      "2\n",
      "3\n",
      "/Well-Woven-Squares-Geometric-Bathroom/product-reviews/B015AMT378/ref=cm_cr_dp_d_show_all_btm?ie=UTF8&reviewerType=all_reviews\n",
      "1\n",
      "2\n",
      "3\n",
      "4\n",
      "5\n",
      "6\n",
      "7\n",
      "8\n",
      "9\n",
      "10\n",
      "11\n",
      "12\n",
      "13\n",
      "14\n",
      "15\n",
      "16\n",
      "17\n",
      "/Well-Woven-Non-Skid-Antibacterial-Traditional/product-reviews/B01H7X6OS4/ref=cm_cr_dp_d_show_all_btm?ie=UTF8&reviewerType=all_reviews\n",
      "1\n",
      "2\n",
      "3\n",
      "4\n",
      "5\n",
      "6\n",
      "7\n",
      "8\n",
      "9\n",
      "10\n",
      "11\n",
      "12\n",
      "13\n",
      "14\n",
      "/Well-Woven-Non-Skid-Antibacterial-Washable/product-reviews/B079MKYKJG/ref=cm_cr_dp_d_show_all_btm?ie=UTF8&reviewerType=all_reviews\n",
      "1\n",
      "2\n",
      "3\n",
      "4\n",
      "5\n",
      "6\n",
      "7\n",
      "8\n",
      "9\n",
      "10\n",
      "11\n",
      "/Well-Woven-Multi-Color-Geometric-Contemporary/product-reviews/B072K9B7GG/ref=cm_cr_dp_d_show_all_btm?ie=UTF8&reviewerType=all_reviews\n",
      "1\n",
      "2\n",
      "/Well-Woven-Geometric-Resistant-Contemporary/product-reviews/B01BJH8H52/ref=cm_cr_dp_d_show_all_btm?ie=UTF8&reviewerType=all_reviews\n",
      "1\n",
      "2\n",
      "3\n",
      "/Oriental-Traditional-Resistant-Contemporary-Entryway/product-reviews/B0181DGGKA/ref=cm_cr_dp_d_show_all_btm?ie=UTF8&reviewerType=all_reviews\n",
      "1\n",
      "2\n",
      "3\n",
      "/Well-Woven-Doormat-Butterflies-Bathroom/product-reviews/B013KX2DXK/ref=cm_cr_dp_d_show_all_btm?ie=UTF8&reviewerType=all_reviews\n",
      "1\n",
      "2\n",
      "/Quatrefoil-Geometric-Resistant-Contemporary-Traditional/product-reviews/B01C9F2NIU/ref=cm_cr_dp_d_show_all_btm?ie=UTF8&reviewerType=all_reviews\n",
      "1\n",
      "2\n",
      "3\n",
      "4\n",
      "5\n",
      "6\n",
      "/Well-Woven-Non-Skid-Antibacterial-Washable/product-reviews/B01H7X7GJ0/ref=cm_cr_dp_d_show_all_btm?ie=UTF8&reviewerType=all_reviews\n",
      "1\n",
      "2\n",
      "3\n",
      "4\n",
      "5\n",
      "6\n",
      "7\n",
      "/Well-Woven-Non-Skid-Antibacterial-Geometric/product-reviews/B01N1TLY3E/ref=cm_cr_dp_d_show_all_btm?ie=UTF8&reviewerType=all_reviews\n",
      "1\n",
      "2\n",
      "3\n",
      "4\n",
      "5\n",
      "6\n",
      "7\n",
      "8\n",
      "9\n",
      "/Well-Woven-Isometry-Geometric-Resistant/product-reviews/B01M0OP5XF/ref=cm_cr_dp_d_show_all_btm?ie=UTF8&reviewerType=all_reviews\n",
      "1\n",
      "2\n",
      "3\n",
      "4\n",
      "5\n",
      "6\n",
      "7\n",
      "/Well-Woven-Medallion-Oriental-Distressed/product-reviews/B01I0IYZRC/ref=cm_cr_dp_d_show_all_btm?ie=UTF8&reviewerType=all_reviews\n",
      "1\n",
      "2\n",
      "3\n",
      "4\n",
      "/Well-Woven-Abstract-Geometric-Neutral/product-reviews/B01I0IYV9O/ref=cm_cr_dp_d_show_all_btm?ie=UTF8&reviewerType=all_reviews\n",
      "1\n",
      "2\n",
      "/Well-Woven-Doormat-Kitchen-Bathroom/product-reviews/B013KX2GQO/ref=cm_cr_dp_d_show_all_btm?ie=UTF8&reviewerType=all_reviews\n",
      "1\n",
      "2\n",
      "/Modern-Geometric-Rug-Blocks-Squares/product-reviews/B073T4Q97C/ref=cm_cr_dp_d_show_all_btm?ie=UTF8&reviewerType=all_reviews\n",
      "1\n",
      "2\n",
      "3\n",
      "4\n",
      "5\n",
      "6\n",
      "7\n",
      "8\n",
      "/Well-Woven-Doormat-Kitchen-Bathroom/product-reviews/B013KX2NDK/ref=cm_cr_dp_d_show_all_btm?ie=UTF8&reviewerType=all_reviews\n",
      "1\n",
      "2\n"
     ]
    }
   ],
   "source": [
    "review_dict = {}\n",
    "for ind in range(0,len(review_url)):\n",
    "    print(review_url[ind])\n",
    "    num = 1\n",
    "    reviews = []\n",
    "    while True:\n",
    "        print(num)\n",
    "        data_list = get_review_list(review_url[ind], num)\n",
    "        if len(data_list) == 0:\n",
    "            break\n",
    "        reviews.append(clawer_detail_page(data_list))\n",
    "        num += 1\n",
    "    review_dict[ASIN[ind]] = reviews"
   ]
  },
  {
   "cell_type": "code",
   "execution_count": 16,
   "metadata": {
    "collapsed": true
   },
   "outputs": [],
   "source": [
    "## review_dict = {ASIN:[{\"author\":[],\"Date\":[],...},{},....,{}]}\n",
    "## len(review_dict['B01B3VAMVG']):47 个 {}\n",
    "\n",
    "# def get_data(author,title,date,size_color,star,review):\n",
    "Final_data = {}\n",
    "for key,value in review_dict.items():\n",
    "    Author = []\n",
    "    Title = []\n",
    "    Date = []  \n",
    "    Size_Color = []\n",
    "    Star = []\n",
    "    Review = []\n",
    "    for data in value:\n",
    "        Author.extend(data['Author'])\n",
    "        Title.extend(data['Title'])\n",
    "        Date.extend(data['Date'])\n",
    "        Size_Color.extend(data['Size_Color'])\n",
    "        Star.extend(data['Star'])\n",
    "        Review.extend(data['Review'])\n",
    "    Final_data[key]= [{\"Author\":Author,\"Date\":Date,\"Star\":Star,\"Size_Color\":Size_Color,\n",
    "                 \"Title\":Title,\"Review\":Review}]"
   ]
  },
  {
   "cell_type": "code",
   "execution_count": 17,
   "metadata": {},
   "outputs": [
    {
     "data": {
      "text/plain": [
       "19"
      ]
     },
     "execution_count": 17,
     "metadata": {},
     "output_type": "execute_result"
    }
   ],
   "source": [
    "#check\n",
    "len(Final_data['B013KX2NDK'][0][\"Author\"])\n",
    "keys = list(Final_data.keys()) #keys: ASIN\n",
    "values = list(Final_data.values()) # values: a list of features for each ASIN\n",
    "len(values)"
   ]
  },
  {
   "cell_type": "code",
   "execution_count": 18,
   "metadata": {
    "collapsed": true
   },
   "outputs": [],
   "source": [
    "# Df = items[items[\"(Parent) ASIN\"] != \"B079YYB1B3\"]\n",
    "# Df"
   ]
  },
  {
   "cell_type": "code",
   "execution_count": 19,
   "metadata": {
    "collapsed": true
   },
   "outputs": [],
   "source": [
    "def get_data(key_word):\n",
    "    data = [Final_data[word][0][key_word] for word in keys]\n",
    "    return data"
   ]
  },
  {
   "cell_type": "code",
   "execution_count": 20,
   "metadata": {
    "collapsed": true
   },
   "outputs": [],
   "source": [
    "# get all review data\n",
    "Review_data = get_data('Review')\n",
    "# get all author data\n",
    "Author_data = get_data('Author')\n",
    "# get all star data\n",
    "Star_data = get_data('Star')\n",
    "# get all size / color data\n",
    "feature_data = get_data('Size_Color')"
   ]
  },
  {
   "cell_type": "code",
   "execution_count": 127,
   "metadata": {},
   "outputs": [
    {
     "data": {
      "text/plain": [
       "387"
      ]
     },
     "execution_count": 127,
     "metadata": {},
     "output_type": "execute_result"
    }
   ],
   "source": [
    "len(Review_data[0])"
   ]
  },
  {
   "cell_type": "code",
   "execution_count": 128,
   "metadata": {
    "collapsed": true
   },
   "outputs": [],
   "source": [
    "reviews = []\n",
    "for each_review in Review_data:\n",
    "    for text in each_review:\n",
    "        reviews.append(text)"
   ]
  },
  {
   "cell_type": "code",
   "execution_count": 129,
   "metadata": {
    "collapsed": true
   },
   "outputs": [],
   "source": [
    "stars = []\n",
    "for each_star in Star_data:\n",
    "    for text in each_star:\n",
    "        stars.append(text)"
   ]
  },
  {
   "cell_type": "code",
   "execution_count": 131,
   "metadata": {
    "collapsed": true
   },
   "outputs": [],
   "source": [
    "Authors = []\n",
    "for each_author in Author_data:\n",
    "    for text in each_author:\n",
    "        Authors.append(text)"
   ]
  },
  {
   "cell_type": "code",
   "execution_count": 132,
   "metadata": {
    "collapsed": true
   },
   "outputs": [],
   "source": [
    "features = []\n",
    "for each_feature in feature_data:\n",
    "    for text in each_feature:\n",
    "        features.append(text)"
   ]
  },
  {
   "cell_type": "code",
   "execution_count": 133,
   "metadata": {
    "collapsed": true
   },
   "outputs": [],
   "source": [
    "## final dataframe\n",
    "final_data = pd.DataFrame({\"Review\":reviews,\"Star\":stars,\"Feature\":features})"
   ]
  },
  {
   "cell_type": "code",
   "execution_count": null,
   "metadata": {
    "collapsed": true
   },
   "outputs": [],
   "source": []
  }
 ],
 "metadata": {
  "kernelspec": {
   "display_name": "Python 3",
   "language": "python",
   "name": "python3"
  },
  "language_info": {
   "codemirror_mode": {
    "name": "ipython",
    "version": 3
   },
   "file_extension": ".py",
   "mimetype": "text/x-python",
   "name": "python",
   "nbconvert_exporter": "python",
   "pygments_lexer": "ipython3",
   "version": "3.6.3"
  }
 },
 "nbformat": 4,
 "nbformat_minor": 2
}
