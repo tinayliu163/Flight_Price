{
 "cells": [
  {
   "cell_type": "code",
   "execution_count": 1,
   "metadata": {
    "collapsed": true
   },
   "outputs": [],
   "source": [
    "from selenium import webdriver\n",
    "from selenium.webdriver.common.action_chains import ActionChains\n",
    "from selenium.webdriver.common.keys import Keys\n",
    "from unidecode import unidecode\n",
    "import numpy as np\n",
    "import pandas as pd\n",
    "import requests\n",
    "from bs4 import BeautifulSoup\n",
    "import json"
   ]
  },
  {
   "cell_type": "code",
   "execution_count": 2,
   "metadata": {
    "collapsed": true
   },
   "outputs": [],
   "source": [
    "import time\n",
    "from selenium.webdriver import ActionChains"
   ]
  },
  {
   "cell_type": "code",
   "execution_count": 3,
   "metadata": {
    "collapsed": true
   },
   "outputs": [],
   "source": [
    "headers = {'User-Agent':'Mozilla/5.0 (Macintosh; Intel Mac OS X 10_13_3) AppleWebKit/537.36 (KHTML, like Gecko) Chrome/69.0.3497.100 Safari/537.36'}\n",
    "base_url = \"https://www.beyondmenu.com\""
   ]
  },
  {
   "cell_type": "markdown",
   "metadata": {},
   "source": [
    "*** get_res_data function *** :scrape restaurant name and address\n",
    "\n",
    "- add sleep time in order to make next move until the web is fully loaded\n",
    "- to test the code, please download Chrome WebDriver for mac or windows \n",
    "  and keep this notebook and chromedriver in the same folder\n",
    "https://chromedriver.storage.googleapis.com/index.html?path=2.42/\n",
    "\n",
    "***param***:\n",
    "- input_value: any city or zipcode, e.g.: \"New York\" or \"07030\"\n",
    "\n",
    "***return***:\n",
    "- DataFrame: restaurant_address column and restaurant_name column\n"
   ]
  },
  {
   "cell_type": "code",
   "execution_count": 4,
   "metadata": {
    "collapsed": true
   },
   "outputs": [],
   "source": [
    "def get_res_data(input_value):\n",
    "    \n",
    "    #created the instance of Chrome WebDriver, please download before creating\n",
    "    driver = webdriver.Chrome(\"chromedriver\") \n",
    "    # driver = webdriver.Chrome(\"/Users/yingliu/Documents/chromedriver\") \n",
    "    driver.get(base_url) # navigate to this page\n",
    "    time.sleep(2)\n",
    "    city = driver.find_element_by_xpath('//*[@id=\"contentDesktop_HomeLandingCtrl_SearchInputCtrl_txtNewSearchAddress\"]') \n",
    "    city.click()\n",
    "\n",
    "   #send input_value to current focused element\n",
    "\n",
    "    actions = ActionChains(driver)\n",
    "    actions.send_keys(input_value)\n",
    "    actions.send_keys(Keys.ENTER)\n",
    "    actions.perform()\n",
    "\n",
    "    time.sleep(1)\n",
    "    \n",
    "    driver.find_element_by_class_name('widebutton').click()\n",
    "    \n",
    "    # total pages\n",
    "    total_pages = len(driver.find_element_by_id(\"contentDesktop_SearchResultCtrl1_restaurantListCtrl_lvSearchResults_ProductListPagerCombo\").find_elements_by_tag_name(\"a\"))\n",
    "    page = 1\n",
    "    all_name = [] # all restaurant name\n",
    "    all_address = [] # all restaurant address\n",
    "\n",
    "    while page <= total_pages:\n",
    "        soup = BeautifulSoup(driver.page_source, \"html.parser\")\n",
    "    # all restaurants in each page\n",
    "        all_restaurant = soup.find_all(\"div\",{\"class\" : \"search_results\"})\n",
    "    \n",
    "    # number of restaurants in each page\n",
    "        num_restaurant = len(driver.find_element_by_class_name(\"search_results\").find_elements_by_tag_name(\"a\"))\n",
    "    \n",
    "        for i in range(0,num_restaurant):\n",
    "            each_restaurant_link = all_restaurant[0].find_all('a',{'style':'display: block;'},href = True)[i]['href']\n",
    "            response = requests.get(each_restaurant_link,headers = headers)\n",
    "            each_restaurant_page = BeautifulSoup(response.content, \"html.parser\")\n",
    "            \n",
    "            # restaurant name\n",
    "            name = each_restaurant_page.find_all('h1')[0].text\n",
    "            all_name.append(name)\n",
    "        \n",
    "        # restaurant address\n",
    "            address = each_restaurant_page.find_all('p',{\"class\": \"cuisines\"})[0].text.strip()\n",
    "            address = address.split('\\xa0')[0]\n",
    "            all_address.append(address)\n",
    "        \n",
    "        if num_restaurant == 20:\n",
    "            driver.find_element_by_link_text('Next').click()\n",
    "            page = page +1\n",
    "            time.sleep(2)\n",
    "        else:\n",
    "            break\n",
    "    df = {'restaurant_name':all_name, 'restaurant_address': all_address}\n",
    "    restaurant_data = pd.DataFrame(df)\n",
    "    print(len(all_name))\n",
    "    print(len(all_address))\n",
    "    return restaurant_data.head()"
   ]
  },
  {
   "cell_type": "code",
   "execution_count": 5,
   "metadata": {
    "scrolled": true
   },
   "outputs": [
    {
     "name": "stdout",
     "output_type": "stream",
     "text": [
      "134\n",
      "134\n"
     ]
    },
    {
     "data": {
      "text/html": [
       "<div>\n",
       "<style>\n",
       "    .dataframe thead tr:only-child th {\n",
       "        text-align: right;\n",
       "    }\n",
       "\n",
       "    .dataframe thead th {\n",
       "        text-align: left;\n",
       "    }\n",
       "\n",
       "    .dataframe tbody tr th {\n",
       "        vertical-align: top;\n",
       "    }\n",
       "</style>\n",
       "<table border=\"1\" class=\"dataframe\">\n",
       "  <thead>\n",
       "    <tr style=\"text-align: right;\">\n",
       "      <th></th>\n",
       "      <th>restaurant_address</th>\n",
       "      <th>restaurant_name</th>\n",
       "    </tr>\n",
       "  </thead>\n",
       "  <tbody>\n",
       "    <tr>\n",
       "      <th>0</th>\n",
       "      <td>42C Mott St, New York, NY 10013</td>\n",
       "      <td>Happy Eats</td>\n",
       "    </tr>\n",
       "    <tr>\n",
       "      <th>1</th>\n",
       "      <td>220 Canal St, New York, NY 10013</td>\n",
       "      <td>Sun Sai Gai</td>\n",
       "    </tr>\n",
       "    <tr>\n",
       "      <th>2</th>\n",
       "      <td>1 Elizabeth St, New York, NY 10013</td>\n",
       "      <td>Yee Li</td>\n",
       "    </tr>\n",
       "    <tr>\n",
       "      <th>3</th>\n",
       "      <td>17 Division St, New York, NY 10002</td>\n",
       "      <td>East Seafood Restaurant</td>\n",
       "    </tr>\n",
       "    <tr>\n",
       "      <th>4</th>\n",
       "      <td>39 E Broadway, New York, NY 10002</td>\n",
       "      <td>Downtown Yummy</td>\n",
       "    </tr>\n",
       "  </tbody>\n",
       "</table>\n",
       "</div>"
      ],
      "text/plain": [
       "                   restaurant_address          restaurant_name\n",
       "0     42C Mott St, New York, NY 10013               Happy Eats\n",
       "1    220 Canal St, New York, NY 10013              Sun Sai Gai\n",
       "2  1 Elizabeth St, New York, NY 10013                   Yee Li\n",
       "3  17 Division St, New York, NY 10002  East Seafood Restaurant\n",
       "4   39 E Broadway, New York, NY 10002           Downtown Yummy"
      ]
     },
     "execution_count": 5,
     "metadata": {},
     "output_type": "execute_result"
    }
   ],
   "source": [
    "## check with New York\n",
    "get_res_data('New York')"
   ]
  },
  {
   "cell_type": "code",
   "execution_count": 6,
   "metadata": {},
   "outputs": [
    {
     "name": "stdout",
     "output_type": "stream",
     "text": [
      "126\n",
      "126\n"
     ]
    },
    {
     "data": {
      "text/html": [
       "<div>\n",
       "<style>\n",
       "    .dataframe thead tr:only-child th {\n",
       "        text-align: right;\n",
       "    }\n",
       "\n",
       "    .dataframe thead th {\n",
       "        text-align: left;\n",
       "    }\n",
       "\n",
       "    .dataframe tbody tr th {\n",
       "        vertical-align: top;\n",
       "    }\n",
       "</style>\n",
       "<table border=\"1\" class=\"dataframe\">\n",
       "  <thead>\n",
       "    <tr style=\"text-align: right;\">\n",
       "      <th></th>\n",
       "      <th>restaurant_address</th>\n",
       "      <th>restaurant_name</th>\n",
       "    </tr>\n",
       "  </thead>\n",
       "  <tbody>\n",
       "    <tr>\n",
       "      <th>0</th>\n",
       "      <td>1013 New York Ave, Union City, NJ 07087</td>\n",
       "      <td>King Szechuan Palace 2</td>\n",
       "    </tr>\n",
       "    <tr>\n",
       "      <th>1</th>\n",
       "      <td>50 Greenwich Ave, New York, NY 10011</td>\n",
       "      <td>Umami Sushi</td>\n",
       "    </tr>\n",
       "    <tr>\n",
       "      <th>2</th>\n",
       "      <td>513 6th Ave, New York, NY 10011</td>\n",
       "      <td>Noodle King of New York</td>\n",
       "    </tr>\n",
       "    <tr>\n",
       "      <th>3</th>\n",
       "      <td>16 W 8th St, New York, NY 10011</td>\n",
       "      <td>South of the Clouds</td>\n",
       "    </tr>\n",
       "    <tr>\n",
       "      <th>4</th>\n",
       "      <td>2901 Bergenline Ave, Union City, NJ 07087</td>\n",
       "      <td>Hot Buffet</td>\n",
       "    </tr>\n",
       "  </tbody>\n",
       "</table>\n",
       "</div>"
      ],
      "text/plain": [
       "                          restaurant_address          restaurant_name\n",
       "0    1013 New York Ave, Union City, NJ 07087   King Szechuan Palace 2\n",
       "1       50 Greenwich Ave, New York, NY 10011              Umami Sushi\n",
       "2            513 6th Ave, New York, NY 10011  Noodle King of New York\n",
       "3            16 W 8th St, New York, NY 10011      South of the Clouds\n",
       "4  2901 Bergenline Ave, Union City, NJ 07087               Hot Buffet"
      ]
     },
     "execution_count": 6,
     "metadata": {},
     "output_type": "execute_result"
    }
   ],
   "source": [
    "get_res_data('07030') # zipcode of Hoboken, NJ"
   ]
  },
  {
   "cell_type": "code",
   "execution_count": null,
   "metadata": {
    "collapsed": true
   },
   "outputs": [],
   "source": []
  }
 ],
 "metadata": {
  "kernelspec": {
   "display_name": "Python 3",
   "language": "python",
   "name": "python3"
  },
  "language_info": {
   "codemirror_mode": {
    "name": "ipython",
    "version": 3
   },
   "file_extension": ".py",
   "mimetype": "text/x-python",
   "name": "python",
   "nbconvert_exporter": "python",
   "pygments_lexer": "ipython3",
   "version": "3.6.3"
  }
 },
 "nbformat": 4,
 "nbformat_minor": 2
}
